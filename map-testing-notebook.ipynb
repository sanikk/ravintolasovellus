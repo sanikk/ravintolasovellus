{
 "cells": [
  {
   "cell_type": "code",
   "execution_count": 3,
   "metadata": {},
   "outputs": [
    {
     "data": {
      "text/html": "<div style=\"width:100%;\"><div style=\"position:relative;width:100%;height:0;padding-bottom:60%;\"><span style=\"color:#565656\">Make this Notebook Trusted to load map: File -> Trust Notebook</span><iframe srcdoc=\"&lt;!DOCTYPE html&gt;\n&lt;html&gt;\n&lt;head&gt;\n    \n    &lt;meta http-equiv=&quot;content-type&quot; content=&quot;text/html; charset=UTF-8&quot; /&gt;\n    \n        &lt;script&gt;\n            L_NO_TOUCH = false;\n            L_DISABLE_3D = false;\n        &lt;/script&gt;\n    \n    &lt;style&gt;html, body {width: 100%;height: 100%;margin: 0;padding: 0;}&lt;/style&gt;\n    &lt;style&gt;#map {position:absolute;top:0;bottom:0;right:0;left:0;}&lt;/style&gt;\n    &lt;script src=&quot;https://cdn.jsdelivr.net/npm/leaflet@1.9.3/dist/leaflet.js&quot;&gt;&lt;/script&gt;\n    &lt;script src=&quot;https://code.jquery.com/jquery-3.7.1.min.js&quot;&gt;&lt;/script&gt;\n    &lt;script src=&quot;https://cdn.jsdelivr.net/npm/bootstrap@5.2.2/dist/js/bootstrap.bundle.min.js&quot;&gt;&lt;/script&gt;\n    &lt;script src=&quot;https://cdnjs.cloudflare.com/ajax/libs/Leaflet.awesome-markers/2.0.2/leaflet.awesome-markers.js&quot;&gt;&lt;/script&gt;\n    &lt;link rel=&quot;stylesheet&quot; href=&quot;https://cdn.jsdelivr.net/npm/leaflet@1.9.3/dist/leaflet.css&quot;/&gt;\n    &lt;link rel=&quot;stylesheet&quot; href=&quot;https://cdn.jsdelivr.net/npm/bootstrap@5.2.2/dist/css/bootstrap.min.css&quot;/&gt;\n    &lt;link rel=&quot;stylesheet&quot; href=&quot;https://netdna.bootstrapcdn.com/bootstrap/3.0.0/css/bootstrap.min.css&quot;/&gt;\n    &lt;link rel=&quot;stylesheet&quot; href=&quot;https://cdn.jsdelivr.net/npm/@fortawesome/fontawesome-free@6.2.0/css/all.min.css&quot;/&gt;\n    &lt;link rel=&quot;stylesheet&quot; href=&quot;https://cdnjs.cloudflare.com/ajax/libs/Leaflet.awesome-markers/2.0.2/leaflet.awesome-markers.css&quot;/&gt;\n    &lt;link rel=&quot;stylesheet&quot; href=&quot;https://cdn.jsdelivr.net/gh/python-visualization/folium/folium/templates/leaflet.awesome.rotate.min.css&quot;/&gt;\n    \n            &lt;meta name=&quot;viewport&quot; content=&quot;width=device-width,\n                initial-scale=1.0, maximum-scale=1.0, user-scalable=no&quot; /&gt;\n            &lt;style&gt;\n                #map_33d7d0452ebb236d6a4b6fd3e9c8b46a {\n                    position: relative;\n                    width: 100.0%;\n                    height: 100.0%;\n                    left: 0.0%;\n                    top: 0.0%;\n                }\n                .leaflet-container { font-size: 1rem; }\n            &lt;/style&gt;\n        \n&lt;/head&gt;\n&lt;body&gt;\n    \n    \n            &lt;div class=&quot;folium-map&quot; id=&quot;map_33d7d0452ebb236d6a4b6fd3e9c8b46a&quot; &gt;&lt;/div&gt;\n        \n&lt;/body&gt;\n&lt;script&gt;\n    \n    \n            var map_33d7d0452ebb236d6a4b6fd3e9c8b46a = L.map(\n                &quot;map_33d7d0452ebb236d6a4b6fd3e9c8b46a&quot;,\n                {\n                    center: [60.165, 24.94],\n                    crs: L.CRS.EPSG3857,\n                    zoom: 14,\n                    zoomControl: true,\n                    preferCanvas: false,\n                }\n            );\n\n            \n\n        \n    \n            var tile_layer_753eec1e6a6be8a339519d9cafa4f9bf = L.tileLayer(\n                &quot;https://{s}.basemaps.cartocdn.com/light_all/{z}/{x}/{y}{r}.png&quot;,\n                {&quot;attribution&quot;: &quot;\\u0026copy; \\u003ca href=\\&quot;https://www.openstreetmap.org/copyright\\&quot;\\u003eOpenStreetMap\\u003c/a\\u003e contributors \\u0026copy; \\u003ca href=\\&quot;https://carto.com/attributions\\&quot;\\u003eCARTO\\u003c/a\\u003e&quot;, &quot;detectRetina&quot;: false, &quot;maxNativeZoom&quot;: 20, &quot;maxZoom&quot;: 20, &quot;minZoom&quot;: 0, &quot;noWrap&quot;: false, &quot;opacity&quot;: 1, &quot;subdomains&quot;: &quot;abcd&quot;, &quot;tms&quot;: false}\n            );\n        \n    \n            tile_layer_753eec1e6a6be8a339519d9cafa4f9bf.addTo(map_33d7d0452ebb236d6a4b6fd3e9c8b46a);\n        \n    \n            var marker_823d26b1250a1cbbac2f1f4b6ed9284b = L.marker(\n                [60.165856931244114, 24.94480954601594],\n                {}\n            ).addTo(map_33d7d0452ebb236d6a4b6fd3e9c8b46a);\n        \n    \n            var icon_30aa67a03f157d5f5ee4f40002f291f0 = L.AwesomeMarkers.icon(\n                {&quot;extraClasses&quot;: &quot;fa-rotate-0&quot;, &quot;icon&quot;: &quot;utensils&quot;, &quot;iconColor&quot;: &quot;white&quot;, &quot;markerColor&quot;: &quot;blue&quot;, &quot;prefix&quot;: &quot;glyphicon&quot;}\n            );\n            marker_823d26b1250a1cbbac2f1f4b6ed9284b.setIcon(icon_30aa67a03f157d5f5ee4f40002f291f0);\n        \n    \n        var popup_294f352a63378df578bd454e67cbed0c = L.popup({&quot;maxWidth&quot;: &quot;100%&quot;});\n\n        \n            \n                var html_49136820721e8965b7a97715806b722f = $(`&lt;div id=&quot;html_49136820721e8965b7a97715806b722f&quot; style=&quot;width: 100.0%; height: 100.0%;&quot;&gt;Ravintola Ragu&lt;/div&gt;`)[0];\n                popup_294f352a63378df578bd454e67cbed0c.setContent(html_49136820721e8965b7a97715806b722f);\n            \n        \n\n        marker_823d26b1250a1cbbac2f1f4b6ed9284b.bindPopup(popup_294f352a63378df578bd454e67cbed0c)\n        ;\n\n        \n    \n    \n            marker_823d26b1250a1cbbac2f1f4b6ed9284b.bindTooltip(\n                `&lt;div&gt;\n                     restaurant\n                 &lt;/div&gt;`,\n                {&quot;sticky&quot;: true}\n            );\n        \n    \n            var marker_3254565e2584bb2174c0a4be96b45ad6 = L.marker(\n                [60.16299590715181, 24.939252008943274],\n                {}\n            ).addTo(map_33d7d0452ebb236d6a4b6fd3e9c8b46a);\n        \n    \n            var icon_49c02843eedd376462bb3abcb6c64d4e = L.AwesomeMarkers.icon(\n                {&quot;extraClasses&quot;: &quot;fa-rotate-0&quot;, &quot;icon&quot;: &quot;utensils&quot;, &quot;iconColor&quot;: &quot;white&quot;, &quot;markerColor&quot;: &quot;blue&quot;, &quot;prefix&quot;: &quot;glyphicon&quot;}\n            );\n            marker_3254565e2584bb2174c0a4be96b45ad6.setIcon(icon_49c02843eedd376462bb3abcb6c64d4e);\n        \n    \n        var popup_21fba56f393ce96214a6aac463c3ecfb = L.popup({&quot;maxWidth&quot;: &quot;100%&quot;});\n\n        \n            \n                var html_b8d8045a75b44672bc1d08f44de0bc75 = $(`&lt;div id=&quot;html_b8d8045a75b44672bc1d08f44de0bc75&quot; style=&quot;width: 100.0%; height: 100.0%;&quot;&gt;Istanbul Grilli&lt;/div&gt;`)[0];\n                popup_21fba56f393ce96214a6aac463c3ecfb.setContent(html_b8d8045a75b44672bc1d08f44de0bc75);\n            \n        \n\n        marker_3254565e2584bb2174c0a4be96b45ad6.bindPopup(popup_21fba56f393ce96214a6aac463c3ecfb)\n        ;\n\n        \n    \n    \n            marker_3254565e2584bb2174c0a4be96b45ad6.bindTooltip(\n                `&lt;div&gt;\n                     restaurant\n                 &lt;/div&gt;`,\n                {&quot;sticky&quot;: true}\n            );\n        \n    \n            var marker_f6ad6770e258b79d257048df08b01f17 = L.marker(\n                [60.16122365534795, 24.92996083703681],\n                {}\n            ).addTo(map_33d7d0452ebb236d6a4b6fd3e9c8b46a);\n        \n    \n            var icon_95f4e81143f4041e7d011260349e36d8 = L.AwesomeMarkers.icon(\n                {&quot;extraClasses&quot;: &quot;fa-rotate-0&quot;, &quot;icon&quot;: &quot;utensils&quot;, &quot;iconColor&quot;: &quot;white&quot;, &quot;markerColor&quot;: &quot;blue&quot;, &quot;prefix&quot;: &quot;glyphicon&quot;}\n            );\n            marker_f6ad6770e258b79d257048df08b01f17.setIcon(icon_95f4e81143f4041e7d011260349e36d8);\n        \n    \n        var popup_a1e78858fd0038b2ff64a610ca388eb3 = L.popup({&quot;maxWidth&quot;: &quot;100%&quot;});\n\n        \n            \n                var html_ae8971a1d259cd5983490a699464bc14 = $(`&lt;div id=&quot;html_ae8971a1d259cd5983490a699464bc14&quot; style=&quot;width: 100.0%; height: 100.0%;&quot;&gt;Ravintola Salve&lt;/div&gt;`)[0];\n                popup_a1e78858fd0038b2ff64a610ca388eb3.setContent(html_ae8971a1d259cd5983490a699464bc14);\n            \n        \n\n        marker_f6ad6770e258b79d257048df08b01f17.bindPopup(popup_a1e78858fd0038b2ff64a610ca388eb3)\n        ;\n\n        \n    \n    \n            marker_f6ad6770e258b79d257048df08b01f17.bindTooltip(\n                `&lt;div&gt;\n                     restaurant\n                 &lt;/div&gt;`,\n                {&quot;sticky&quot;: true}\n            );\n        \n&lt;/script&gt;\n&lt;/html&gt;\" style=\"position:absolute;width:100%;height:100%;left:0;top:0;border:none !important;\" allowfullscreen webkitallowfullscreen mozallowfullscreen></iframe></div></div>",
      "text/plain": "<folium.folium.Map at 0x7fad1bc4dc50>"
     },
     "metadata": {
      "transient": {}
     },
     "output_type": "display_data"
    }
   ],
   "source": [
    "# %%\n",
    "# marker test\n",
    "import folium\n",
    "import h3\n",
    "\n",
    "map_location = (60.165, 24.94)\n",
    "m = folium.Map(location=map_location, zoom_start=14, tiles='cartodbpositron')\n",
    "\n",
    "places = [\n",
    "    ('Ravintola Ragu', [60.165856931244114, 24.94480954601594]),\n",
    "    ('Istanbul Grilli', [60.16299590715181, 24.939252008943274]),\n",
    "    ('Ravintola Salve', [60.16122365534795, 24.92996083703681])\n",
    "]\n",
    "\n",
    "for place in places:\n",
    "    folium.Marker(\n",
    "        location=place[1],\n",
    "        tooltip=place[0],\n",
    "        popup=\"<a href='http://google.fi/'>Webpage</a>\",\n",
    "        icon=folium.Icon(icon='utensils'),\n",
    "    ).add_to(m)\n",
    "\n",
    "display(m)"
   ]
  },
  {
   "cell_type": "code",
   "execution_count": null,
   "metadata": {},
   "outputs": [],
   "source": [
    "# %%\n",
    "# map in folium\n",
    "import folium\n",
    "import h3\n",
    "\n",
    "lat = 60.165 \n",
    "lng = 24.945831\n",
    "res = 6 # \n",
    "h3_address = h3.geo_to_h3(lat,lng, res)\n",
    "polygons = h3.h3_set_to_multi_polygon([h3_address], geo_json=False)\n",
    "\n",
    "polylines = []\n",
    "\n",
    "outlines = [loop for polygon in polygons for loop in polygon]\n",
    "polyline = [outline + [outline[0]] for outline in outlines][0]\n",
    "\n",
    "lat_list = [a[0] for a in polyline]\n",
    "lng_list = [a[1] for a in polyline]\n",
    "\n",
    "location = [sum(lat_list) / len(lat_list), sum(lng_list) / len(lng_list)]\n",
    "m = folium.Map(location=location, zoom_start=14, tiles='cartodbpositron')\n",
    "display(m)\n",
    "\n"
   ]
  },
  {
   "cell_type": "code",
   "execution_count": null,
   "metadata": {},
   "outputs": [],
   "source": [
    "# %%\n",
    "# centering map, just the map, nothing else\n",
    "import folium\n",
    "import h3\n",
    "\n",
    "location = (60.165, 24.94)\n",
    "m = folium.Map(location=location, zoom_start=14, tiles='cartodbpositron')\n",
    "display(m)"
   ]
  }
 ],
 "metadata": {
  "kernelspec": {
   "display_name": "Python 3.11.7 64-bit",
   "metadata": {
    "interpreter": {
     "hash": "922ec1269bf997d7083c14d9813ee838d5a2b2b400c0c591b8aad79b823a17f9"
    }
   },
   "name": "python3"
  },
  "language_info": {
   "codemirror_mode": {
    "name": "ipython",
    "version": 3
   },
   "file_extension": ".py",
   "mimetype": "text/x-python",
   "name": "python",
   "nbconvert_exporter": "python",
   "pygments_lexer": "ipython3",
   "version": "3.11.7"
  },
  "orig_nbformat": 2
 },
 "nbformat": 4,
 "nbformat_minor": 2
}